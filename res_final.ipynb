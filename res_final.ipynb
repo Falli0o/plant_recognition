{
 "cells": [
  {
   "cell_type": "code",
   "execution_count": 1,
   "metadata": {},
   "outputs": [
    {
     "name": "stderr",
     "output_type": "stream",
     "text": [
      "D:\\anacondainstall\\lib\\site-packages\\h5py\\__init__.py:36: FutureWarning: Conversion of the second argument of issubdtype from `float` to `np.floating` is deprecated. In future, it will be treated as `np.float64 == np.dtype(float).type`.\n",
      "  from ._conv import register_converters as _register_converters\n",
      "Using TensorFlow backend.\n"
     ]
    }
   ],
   "source": [
    "import numpy as np\n",
    "from keras.applications.resnet50 import ResNet50\n",
    "from keras.preprocessing import image\n",
    "from keras.applications.resnet50 import preprocess_input\n",
    "from sklearn.preprocessing import OneHotEncoder\n",
    "import keras\n",
    "from keras.preprocessing.image import ImageDataGenerator  \n",
    "from keras.models import Sequential, load_model\n",
    "from keras.optimizers import SGD, Adam\n",
    "from keras.layers import Conv2D, MaxPooling2D, BatchNormalization, AveragePooling2D, GlobalMaxPooling1D\n",
    "from sklearn.metrics import accuracy_score, f1_score, precision_score, recall_score\n",
    "from keras.layers import Activation, Dropout, Flatten, Dense  \n",
    "from keras import backend as K \n",
    "from keras import metrics\n",
    "import os\n",
    "import time\n",
    "import h5py"
   ]
  },
  {
   "cell_type": "code",
   "execution_count": 2,
   "metadata": {},
   "outputs": [],
   "source": [
    "np.random.seed(1)"
   ]
  },
  {
   "cell_type": "code",
   "execution_count": 3,
   "metadata": {},
   "outputs": [],
   "source": [
    "train_doc = np.load('flower_train.npy')\n",
    "test_doc = np.load('flower_test.npy')"
   ]
  },
  {
   "cell_type": "code",
   "execution_count": 4,
   "metadata": {},
   "outputs": [],
   "source": [
    "sorted_train_doc = np.array(sorted(train_doc,key=lambda x:x[3]))\n",
    "sorted_test_doc = np.array(sorted(test_doc,key=lambda x:x[3]))"
   ]
  },
  {
   "cell_type": "code",
   "execution_count": 5,
   "metadata": {},
   "outputs": [],
   "source": [
    "f_train = h5py.File('res_flower_train.h5','r') #img data is sorted by the filenames\n",
    "train_img = f_train['res_flower_train']\n",
    "train_id = sorted_train_doc[:,0]\n",
    "f_test = h5py.File('res_flower_test.h5','r')\n",
    "test_img = f_test['res_flower_test']\n",
    "test_id = sorted_test_doc[:,0]"
   ]
  },
  {
   "cell_type": "code",
   "execution_count": 6,
   "metadata": {},
   "outputs": [],
   "source": [
    "new_train_doc = sorted_train_doc\n",
    "uni_train_id = np.unique(train_id)\n",
    "for i in range(len(uni_train_id)):\n",
    "    d = uni_train_id[i]\n",
    "    new_train_doc[:,0][(train_id == d)] = str(i)\n",
    "train_label = new_train_doc[:,0].astype(np.int)"
   ]
  },
  {
   "cell_type": "code",
   "execution_count": 7,
   "metadata": {},
   "outputs": [],
   "source": [
    "new_test_doc = sorted_test_doc\n",
    "uni_test_id = np.unique(test_id)\n",
    "for i in range(len(uni_test_id)):\n",
    "    d = uni_test_id[i]\n",
    "    new_test_doc[:,0][(test_id == d)] = str(i)\n",
    "test_label = new_test_doc[:,0].astype(np.int)"
   ]
  },
  {
   "cell_type": "code",
   "execution_count": 8,
   "metadata": {},
   "outputs": [],
   "source": [
    "enc = OneHotEncoder()\n",
    "enc.fit(np.arange(0,20).reshape(-1,1))\n",
    "onehot_train_label = enc.transform(np.array(train_label).reshape(-1,1)).toarray()"
   ]
  },
  {
   "cell_type": "code",
   "execution_count": 94,
   "metadata": {},
   "outputs": [],
   "source": [
    "def top_1(y_true, y_pred):\n",
    "    return metrics.top_k_categorical_accuracy(y_true, y_pred, k=1)"
   ]
  },
  {
   "cell_type": "code",
   "execution_count": 89,
   "metadata": {},
   "outputs": [],
   "source": [
    "def top_2(y_true, y_pred):\n",
    "    return metrics.top_k_categorical_accuracy(y_true, y_pred, k=2)"
   ]
  },
  {
   "cell_type": "code",
   "execution_count": 90,
   "metadata": {},
   "outputs": [],
   "source": [
    "def top_3(y_true, y_pred):\n",
    "    return metrics.top_k_categorical_accuracy(y_true, y_pred, k=3)"
   ]
  },
  {
   "cell_type": "code",
   "execution_count": 91,
   "metadata": {},
   "outputs": [],
   "source": [
    "def top_4(y_true, y_pred):\n",
    "    return metrics.top_k_categorical_accuracy(y_true, y_pred, k=4)"
   ]
  },
  {
   "cell_type": "code",
   "execution_count": 92,
   "metadata": {},
   "outputs": [],
   "source": [
    "def top_5(y_true, y_pred):\n",
    "    return metrics.top_k_categorical_accuracy(y_true, y_pred, k=5)"
   ]
  },
  {
   "cell_type": "code",
   "execution_count": 95,
   "metadata": {},
   "outputs": [],
   "source": [
    "model = Sequential()\n",
    "model.add(Flatten(input_shape=(1,1,1,2048)))\n",
    "model.add(Dense(400, activation='relu'))\n",
    "model.add(Dropout(0.5))\n",
    "model.add(Dense(100, activation='relu'))\n",
    "model.add(Dropout(0.5))\n",
    "model.add(Dense(20, activation='softmax')) "
   ]
  },
  {
   "cell_type": "code",
   "execution_count": 96,
   "metadata": {},
   "outputs": [
    {
     "name": "stdout",
     "output_type": "stream",
     "text": [
      "Epoch 1/60\n",
      "2128/2128 [==============================] - 1s 700us/step - loss: 3.4997 - acc: 0.0710 - top_1: 0.0710 - top_2: 0.1335 - top_3: 0.1941 - top_4: 0.2570 - top_5: 0.3144\n",
      "Epoch 2/60\n",
      "2128/2128 [==============================] - 0s 222us/step - loss: 2.9207 - acc: 0.1217 - top_1: 0.1217 - top_2: 0.2119 - top_3: 0.2965 - top_4: 0.3750 - top_5: 0.4366\n",
      "Epoch 3/60\n",
      "2128/2128 [==============================] - 0s 231us/step - loss: 2.6804 - acc: 0.1960 - top_1: 0.1960 - top_2: 0.3073 - top_3: 0.3905 - top_4: 0.4629 - top_5: 0.5277\n",
      "Epoch 4/60\n",
      "2128/2128 [==============================] - 1s 243us/step - loss: 2.4664 - acc: 0.2622 - top_1: 0.2622 - top_2: 0.3882 - top_3: 0.4807 - top_4: 0.5587 - top_5: 0.6283\n",
      "Epoch 5/60\n",
      "2128/2128 [==============================] - 0s 230us/step - loss: 2.2531 - acc: 0.3398 - top_1: 0.3398 - top_2: 0.4817 - top_3: 0.5714 - top_4: 0.6504 - top_5: 0.7035\n",
      "Epoch 6/60\n",
      "2128/2128 [==============================] - 0s 232us/step - loss: 2.0701 - acc: 0.3816 - top_1: 0.3816 - top_2: 0.5244 - top_3: 0.6236 - top_4: 0.6955 - top_5: 0.7542\n",
      "Epoch 7/60\n",
      "2128/2128 [==============================] - 0s 228us/step - loss: 1.9241 - acc: 0.4225 - top_1: 0.4225 - top_2: 0.5818 - top_3: 0.6776 - top_4: 0.7354 - top_5: 0.7857\n",
      "Epoch 8/60\n",
      "2128/2128 [==============================] - 0s 227us/step - loss: 1.7104 - acc: 0.4977 - top_1: 0.4977 - top_2: 0.6382 - top_3: 0.7336 - top_4: 0.7932 - top_5: 0.8379\n",
      "Epoch 9/60\n",
      "2128/2128 [==============================] - 0s 230us/step - loss: 1.5836 - acc: 0.5343 - top_1: 0.5343 - top_2: 0.6927 - top_3: 0.7754 - top_4: 0.8304 - top_5: 0.8623\n",
      "Epoch 10/60\n",
      "2128/2128 [==============================] - 0s 234us/step - loss: 1.4632 - acc: 0.5728 - top_1: 0.5728 - top_2: 0.7096 - top_3: 0.8083 - top_4: 0.8501 - top_5: 0.8849\n",
      "Epoch 11/60\n",
      "2128/2128 [==============================] - 1s 237us/step - loss: 1.4029 - acc: 0.5705 - top_1: 0.5705 - top_2: 0.7321 - top_3: 0.8055 - top_4: 0.8571 - top_5: 0.8896\n",
      "Epoch 12/60\n",
      "2128/2128 [==============================] - 1s 241us/step - loss: 1.2454 - acc: 0.6382 - top_1: 0.6382 - top_2: 0.7834 - top_3: 0.8557 - top_4: 0.8980 - top_5: 0.9211\n",
      "Epoch 13/60\n",
      "2128/2128 [==============================] - 0s 235us/step - loss: 1.2227 - acc: 0.6377 - top_1: 0.6377 - top_2: 0.7777 - top_3: 0.8459 - top_4: 0.8910 - top_5: 0.9121\n",
      "Epoch 14/60\n",
      "2128/2128 [==============================] - 1s 236us/step - loss: 1.0852 - acc: 0.6842 - top_1: 0.6842 - top_2: 0.8148 - top_3: 0.8788 - top_4: 0.9117 - top_5: 0.9398\n",
      "Epoch 15/60\n",
      "2128/2128 [==============================] - 0s 230us/step - loss: 1.0532 - acc: 0.6880 - top_1: 0.6880 - top_2: 0.8247 - top_3: 0.8867 - top_4: 0.9192 - top_5: 0.9408\n",
      "Epoch 16/60\n",
      "2128/2128 [==============================] - 1s 249us/step - loss: 1.0034 - acc: 0.7016 - top_1: 0.7016 - top_2: 0.8412 - top_3: 0.9037 - top_4: 0.9295 - top_5: 0.9469\n",
      "Epoch 17/60\n",
      "2128/2128 [==============================] - 0s 230us/step - loss: 0.9538 - acc: 0.7166 - top_1: 0.7166 - top_2: 0.8477 - top_3: 0.9065 - top_4: 0.9380 - top_5: 0.9572\n",
      "Epoch 18/60\n",
      "2128/2128 [==============================] - 0s 231us/step - loss: 0.8698 - acc: 0.7523 - top_1: 0.7523 - top_2: 0.8698 - top_3: 0.9154 - top_4: 0.9460 - top_5: 0.9615 0s - loss: 0.9694 - acc: 0.7125 - top_1: 0.7125 - top_2: 0.8500 - top_3: 0.9025 - top_4: 0.9325 - top_5: \n",
      "Epoch 19/60\n",
      "2128/2128 [==============================] - 0s 226us/step - loss: 0.8382 - acc: 0.7401 - top_1: 0.7401 - top_2: 0.8731 - top_3: 0.9220 - top_4: 0.9507 - top_5: 0.9676\n",
      "Epoch 20/60\n",
      "2128/2128 [==============================] - 1s 249us/step - loss: 0.7739 - acc: 0.7664 - top_1: 0.7664 - top_2: 0.8938 - top_3: 0.9314 - top_4: 0.9558 - top_5: 0.9666\n",
      "Epoch 21/60\n",
      "2128/2128 [==============================] - 1s 245us/step - loss: 0.7323 - acc: 0.7871 - top_1: 0.7871 - top_2: 0.8994 - top_3: 0.9417 - top_4: 0.9615 - top_5: 0.9709\n",
      "Epoch 22/60\n",
      "2128/2128 [==============================] - 1s 259us/step - loss: 0.7445 - acc: 0.7768 - top_1: 0.7768 - top_2: 0.8957 - top_3: 0.9305 - top_4: 0.9525 - top_5: 0.9652\n",
      "Epoch 23/60\n",
      "2128/2128 [==============================] - 1s 312us/step - loss: 0.7087 - acc: 0.7890 - top_1: 0.7890 - top_2: 0.8966 - top_3: 0.9389 - top_4: 0.9615 - top_5: 0.9732\n",
      "Epoch 24/60\n",
      "2128/2128 [==============================] - 1s 387us/step - loss: 0.6569 - acc: 0.7984 - top_1: 0.7984 - top_2: 0.9084 - top_3: 0.9464 - top_4: 0.9615 - top_5: 0.9718\n",
      "Epoch 25/60\n",
      "2128/2128 [==============================] - 1s 393us/step - loss: 0.6240 - acc: 0.8195 - top_1: 0.8195 - top_2: 0.9164 - top_3: 0.9497 - top_4: 0.9690 - top_5: 0.9793\n",
      "Epoch 26/60\n",
      "2128/2128 [==============================] - 1s 381us/step - loss: 0.6006 - acc: 0.8214 - top_1: 0.8214 - top_2: 0.9234 - top_3: 0.9554 - top_4: 0.9746 - top_5: 0.9807\n",
      "Epoch 27/60\n",
      "2128/2128 [==============================] - 1s 263us/step - loss: 0.5608 - acc: 0.8374 - top_1: 0.8374 - top_2: 0.9272 - top_3: 0.9601 - top_4: 0.9742 - top_5: 0.9793\n",
      "Epoch 28/60\n",
      "2128/2128 [==============================] - 1s 238us/step - loss: 0.5238 - acc: 0.8496 - top_1: 0.8496 - top_2: 0.9398 - top_3: 0.9662 - top_4: 0.9789 - top_5: 0.9850\n",
      "Epoch 29/60\n",
      "2128/2128 [==============================] - 1s 235us/step - loss: 0.5245 - acc: 0.8463 - top_1: 0.8463 - top_2: 0.9408 - top_3: 0.9643 - top_4: 0.9718 - top_5: 0.9840\n",
      "Epoch 30/60\n",
      "2128/2128 [==============================] - 0s 230us/step - loss: 0.5100 - acc: 0.8482 - top_1: 0.8482 - top_2: 0.9352 - top_3: 0.9619 - top_4: 0.9742 - top_5: 0.9821\n",
      "Epoch 31/60\n",
      "2128/2128 [==============================] - 0s 227us/step - loss: 0.5157 - acc: 0.8449 - top_1: 0.8449 - top_2: 0.9333 - top_3: 0.9652 - top_4: 0.9751 - top_5: 0.9873\n",
      "Epoch 32/60\n",
      "2128/2128 [==============================] - 0s 234us/step - loss: 0.4630 - acc: 0.8675 - top_1: 0.8675 - top_2: 0.9483 - top_3: 0.9662 - top_4: 0.9803 - top_5: 0.9873\n",
      "Epoch 33/60\n",
      "2128/2128 [==============================] - 1s 277us/step - loss: 0.4436 - acc: 0.8689 - top_1: 0.8689 - top_2: 0.9502 - top_3: 0.9746 - top_4: 0.9845 - top_5: 0.9878\n",
      "Epoch 34/60\n",
      "2128/2128 [==============================] - 1s 266us/step - loss: 0.4468 - acc: 0.8680 - top_1: 0.8680 - top_2: 0.9582 - top_3: 0.9779 - top_4: 0.9836 - top_5: 0.9887\n",
      "Epoch 35/60\n",
      "2128/2128 [==============================] - 1s 403us/step - loss: 0.4274 - acc: 0.8689 - top_1: 0.8689 - top_2: 0.9544 - top_3: 0.9793 - top_4: 0.9868 - top_5: 0.9911\n",
      "Epoch 36/60\n",
      "2128/2128 [==============================] - 1s 391us/step - loss: 0.4026 - acc: 0.8769 - top_1: 0.8769 - top_2: 0.9615 - top_3: 0.9793 - top_4: 0.9897 - top_5: 0.9920\n",
      "Epoch 37/60\n",
      "2128/2128 [==============================] - 1s 408us/step - loss: 0.4022 - acc: 0.8830 - top_1: 0.8830 - top_2: 0.9558 - top_3: 0.9756 - top_4: 0.9883 - top_5: 0.9920\n",
      "Epoch 38/60\n",
      "2128/2128 [==============================] - 1s 314us/step - loss: 0.3823 - acc: 0.8910 - top_1: 0.8910 - top_2: 0.9610 - top_3: 0.9784 - top_4: 0.9854 - top_5: 0.9897\n",
      "Epoch 39/60\n",
      "2128/2128 [==============================] - 0s 226us/step - loss: 0.3830 - acc: 0.8844 - top_1: 0.8844 - top_2: 0.9615 - top_3: 0.9845 - top_4: 0.9892 - top_5: 0.9925\n",
      "Epoch 40/60\n",
      "2128/2128 [==============================] - 0s 226us/step - loss: 0.3598 - acc: 0.8943 - top_1: 0.8943 - top_2: 0.9586 - top_3: 0.9793 - top_4: 0.9850 - top_5: 0.9915\n",
      "Epoch 41/60\n",
      "2128/2128 [==============================] - 0s 225us/step - loss: 0.3459 - acc: 0.8999 - top_1: 0.8999 - top_2: 0.9629 - top_3: 0.9831 - top_4: 0.9873 - top_5: 0.9906\n",
      "Epoch 42/60\n",
      "2128/2128 [==============================] - 0s 224us/step - loss: 0.3315 - acc: 0.9023 - top_1: 0.9023 - top_2: 0.9685 - top_3: 0.9850 - top_4: 0.9915 - top_5: 0.9939\n",
      "Epoch 43/60\n",
      "2128/2128 [==============================] - 0s 225us/step - loss: 0.3428 - acc: 0.8961 - top_1: 0.8961 - top_2: 0.9648 - top_3: 0.9840 - top_4: 0.9901 - top_5: 0.9948\n",
      "Epoch 44/60\n",
      "2128/2128 [==============================] - 1s 251us/step - loss: 0.3077 - acc: 0.9140 - top_1: 0.9140 - top_2: 0.9713 - top_3: 0.9840 - top_4: 0.9897 - top_5: 0.9934\n",
      "Epoch 45/60\n",
      "2128/2128 [==============================] - 1s 381us/step - loss: 0.3176 - acc: 0.9074 - top_1: 0.9074 - top_2: 0.9709 - top_3: 0.9812 - top_4: 0.9901 - top_5: 0.9934\n"
     ]
    },
    {
     "name": "stdout",
     "output_type": "stream",
     "text": [
      "Epoch 46/60\n",
      "2128/2128 [==============================] - 1s 391us/step - loss: 0.3040 - acc: 0.9126 - top_1: 0.9126 - top_2: 0.9723 - top_3: 0.9887 - top_4: 0.9930 - top_5: 0.9953\n",
      "Epoch 47/60\n",
      "2128/2128 [==============================] - 1s 397us/step - loss: 0.2875 - acc: 0.9196 - top_1: 0.9196 - top_2: 0.9746 - top_3: 0.9883 - top_4: 0.9953 - top_5: 0.9962\n",
      "Epoch 48/60\n",
      "2128/2128 [==============================] - 1s 385us/step - loss: 0.2966 - acc: 0.9117 - top_1: 0.9117 - top_2: 0.9718 - top_3: 0.9864 - top_4: 0.9930 - top_5: 0.9944\n",
      "Epoch 49/60\n",
      "2128/2128 [==============================] - 1s 364us/step - loss: 0.2516 - acc: 0.9319 - top_1: 0.9319 - top_2: 0.9812 - top_3: 0.9915 - top_4: 0.9962 - top_5: 0.9972\n",
      "Epoch 50/60\n",
      "2128/2128 [==============================] - 1s 246us/step - loss: 0.2475 - acc: 0.9352 - top_1: 0.9352 - top_2: 0.9821 - top_3: 0.9901 - top_4: 0.9958 - top_5: 0.9972\n",
      "Epoch 51/60\n",
      "2128/2128 [==============================] - 0s 232us/step - loss: 0.2392 - acc: 0.9319 - top_1: 0.9319 - top_2: 0.9742 - top_3: 0.9883 - top_4: 0.9944 - top_5: 0.9967\n",
      "Epoch 52/60\n",
      "2128/2128 [==============================] - 1s 268us/step - loss: 0.2522 - acc: 0.9309 - top_1: 0.9309 - top_2: 0.9784 - top_3: 0.9901 - top_4: 0.9958 - top_5: 0.9977\n",
      "Epoch 53/60\n",
      "2128/2128 [==============================] - 0s 232us/step - loss: 0.2350 - acc: 0.9445 - top_1: 0.9445 - top_2: 0.9836 - top_3: 0.9915 - top_4: 0.9939 - top_5: 0.9958\n",
      "Epoch 54/60\n",
      "2128/2128 [==============================] - 0s 232us/step - loss: 0.2291 - acc: 0.9398 - top_1: 0.9398 - top_2: 0.9840 - top_3: 0.9897 - top_4: 0.9944 - top_5: 0.9972\n",
      "Epoch 55/60\n",
      "2128/2128 [==============================] - 1s 318us/step - loss: 0.2331 - acc: 0.9319 - top_1: 0.9319 - top_2: 0.9821 - top_3: 0.9948 - top_4: 0.9953 - top_5: 0.9967\n",
      "Epoch 56/60\n",
      "2128/2128 [==============================] - 1s 393us/step - loss: 0.2122 - acc: 0.9436 - top_1: 0.9436 - top_2: 0.9859 - top_3: 0.9953 - top_4: 0.9986 - top_5: 0.9986\n",
      "Epoch 57/60\n",
      "2128/2128 [==============================] - ETA: 0s - loss: 0.2163 - acc: 0.9390 - top_1: 0.9390 - top_2: 0.9838 - top_3: 0.9938 - top_4: 0.9962 - top_5: 0.998 - 1s 404us/step - loss: 0.2147 - acc: 0.9394 - top_1: 0.9394 - top_2: 0.9840 - top_3: 0.9939 - top_4: 0.9962 - top_5: 0.9981\n",
      "Epoch 58/60\n",
      "2128/2128 [==============================] - 1s 392us/step - loss: 0.2104 - acc: 0.9380 - top_1: 0.9380 - top_2: 0.9840 - top_3: 0.9944 - top_4: 0.9962 - top_5: 0.9986\n",
      "Epoch 59/60\n",
      "2128/2128 [==============================] - 1s 375us/step - loss: 0.2058 - acc: 0.9422 - top_1: 0.9422 - top_2: 0.9831 - top_3: 0.9934 - top_4: 0.9958 - top_5: 0.9977\n",
      "Epoch 60/60\n",
      "2128/2128 [==============================] - 1s 295us/step - loss: 0.2041 - acc: 0.9469 - top_1: 0.9469 - top_2: 0.9836 - top_3: 0.9920 - top_4: 0.9958 - top_5: 0.9972\n"
     ]
    },
    {
     "data": {
      "text/plain": [
       "<keras.callbacks.History at 0x111cbf44a58>"
      ]
     },
     "execution_count": 96,
     "metadata": {},
     "output_type": "execute_result"
    }
   ],
   "source": [
    "#sgd = SGD(lr=0.001, decay= 1e-6, momentum=0.9, nesterov=True) \n",
    "adam = Adam(lr=0.0001, beta_1=0.9, beta_2=0.999, epsilon=None, decay=0.0, amsgrad=False)\n",
    "model.compile(loss='categorical_crossentropy',\n",
    "              optimizer=adam,\n",
    "              metrics=['accuracy',top_1,top_2,top_3,top_4,top_5,])#,metrics.categorical_accuracy,metrics.top_k_categorical_accuracy])\n",
    "model.fit(train_img, onehot_train_label,epochs=60,batch_size=100,shuffle=\"batch\")\n",
    "#60\n",
    "#80"
   ]
  },
  {
   "cell_type": "code",
   "execution_count": 114,
   "metadata": {},
   "outputs": [],
   "source": [
    "predicted_pro = model.predict(test_img)\n",
    "train_predicted_pro = model.predict(train_img)"
   ]
  },
  {
   "cell_type": "code",
   "execution_count": 115,
   "metadata": {},
   "outputs": [],
   "source": [
    "train_predicted_class = []\n",
    "for i in range(train_predicted_pro.shape[0]):\n",
    "    best_prediction = np.argsort(train_predicted_pro[i])[::-1][0] #plus one to get the class label but not the index\n",
    "    train_predicted_class.append(best_prediction)"
   ]
  },
  {
   "cell_type": "code",
   "execution_count": 98,
   "metadata": {},
   "outputs": [],
   "source": [
    "predicted_class = []\n",
    "for i in range(predicted_pro.shape[0]):\n",
    "    best_prediction = np.argsort(predicted_pro[i])[::-1][0] #plus one to get the class label but not the index\n",
    "    predicted_class.append(best_prediction)"
   ]
  },
  {
   "cell_type": "code",
   "execution_count": 204,
   "metadata": {},
   "outputs": [],
   "source": [
    "onehot_test_label = enc.transform(test_label.reshape(-1,1))"
   ]
  },
  {
   "cell_type": "code",
   "execution_count": 205,
   "metadata": {},
   "outputs": [
    {
     "name": "stdout",
     "output_type": "stream",
     "text": [
      "2128/2128 [==============================] - ETA:  - 0s 120us/step\n"
     ]
    },
    {
     "data": {
      "text/plain": [
       "[0.028725174070104845,\n",
       " 0.9981203007518797,\n",
       " 0.9981203007518797,\n",
       " 1.0,\n",
       " 1.0,\n",
       " 1.0,\n",
       " 1.0]"
      ]
     },
     "execution_count": 205,
     "metadata": {},
     "output_type": "execute_result"
    }
   ],
   "source": [
    "model.evaluate(train_img,onehot_train_label)"
   ]
  },
  {
   "cell_type": "code",
   "execution_count": 203,
   "metadata": {},
   "outputs": [
    {
     "name": "stdout",
     "output_type": "stream",
     "text": [
      "766/766 [==============================] - 1s 756us/step\n"
     ]
    },
    {
     "data": {
      "text/plain": [
       "[0.2967305630056416,\n",
       " 0.9138381191706845,\n",
       " 0.9138381191706845,\n",
       " 0.9621409921671018,\n",
       " 0.9699738903394256,\n",
       " 0.9765013054830287,\n",
       " 0.9856396866840731]"
      ]
     },
     "execution_count": 203,
     "metadata": {},
     "output_type": "execute_result"
    }
   ],
   "source": [
    "model.evaluate(test_img,onehot_test_label)"
   ]
  },
  {
   "cell_type": "code",
   "execution_count": 116,
   "metadata": {},
   "outputs": [
    {
     "data": {
      "text/plain": [
       "0.9981203007518797"
      ]
     },
     "execution_count": 116,
     "metadata": {},
     "output_type": "execute_result"
    }
   ],
   "source": [
    "train_acc = accuracy_score(np.array(train_label), np.array(train_predicted_class))\n",
    "train_acc"
   ]
  },
  {
   "cell_type": "code",
   "execution_count": 99,
   "metadata": {},
   "outputs": [
    {
     "data": {
      "text/plain": [
       "0.9138381201044387"
      ]
     },
     "execution_count": 99,
     "metadata": {},
     "output_type": "execute_result"
    }
   ],
   "source": [
    "acc = accuracy_score(np.array(test_label), np.array(predicted_class))\n",
    "acc"
   ]
  },
  {
   "cell_type": "code",
   "execution_count": 110,
   "metadata": {},
   "outputs": [
    {
     "data": {
      "text/plain": [
       "0.9138381201044387"
      ]
     },
     "execution_count": 110,
     "metadata": {},
     "output_type": "execute_result"
    }
   ],
   "source": [
    "rec = recall_score(np.array(test_label), np.array(predicted_class),average='micro')\n",
    "rec"
   ]
  },
  {
   "cell_type": "code",
   "execution_count": 111,
   "metadata": {},
   "outputs": [
    {
     "data": {
      "text/plain": [
       "0.9138381201044387"
      ]
     },
     "execution_count": 111,
     "metadata": {},
     "output_type": "execute_result"
    }
   ],
   "source": [
    "pre = precision_score(np.array(test_label), np.array(predicted_class),average='micro')\n",
    "pre"
   ]
  },
  {
   "cell_type": "code",
   "execution_count": 100,
   "metadata": {},
   "outputs": [],
   "source": [
    "model.save('res_%s.h5' % str(acc))"
   ]
  },
  {
   "cell_type": "code",
   "execution_count": 117,
   "metadata": {},
   "outputs": [],
   "source": [
    "predicted_class = np.array(predicted_class)\n",
    "train_predicted_class = np.array(train_predicted_class)"
   ]
  },
  {
   "cell_type": "code",
   "execution_count": 118,
   "metadata": {},
   "outputs": [],
   "source": [
    "train_acc_ids = []\n",
    "for i in range(20):\n",
    "    acc_id = train_predicted_class[(train_label == i)]\n",
    "    p = np.sum(acc_id == i)/(len(acc_id))\n",
    "    train_acc_ids.append(p)"
   ]
  },
  {
   "cell_type": "code",
   "execution_count": 119,
   "metadata": {},
   "outputs": [
    {
     "data": {
      "text/plain": [
       "[1.0,\n",
       " 1.0,\n",
       " 1.0,\n",
       " 0.9895833333333334,\n",
       " 0.9913793103448276,\n",
       " 1.0,\n",
       " 1.0,\n",
       " 1.0,\n",
       " 1.0,\n",
       " 1.0,\n",
       " 1.0,\n",
       " 1.0,\n",
       " 1.0,\n",
       " 1.0,\n",
       " 0.9896907216494846,\n",
       " 1.0,\n",
       " 1.0,\n",
       " 1.0,\n",
       " 1.0,\n",
       " 0.9908256880733946]"
      ]
     },
     "execution_count": 119,
     "metadata": {},
     "output_type": "execute_result"
    }
   ],
   "source": [
    "train_acc_ids"
   ]
  },
  {
   "cell_type": "code",
   "execution_count": 112,
   "metadata": {},
   "outputs": [],
   "source": [
    "acc_ids = []\n",
    "for i in range(20):\n",
    "    acc_id = predicted_class[(test_label == i)]\n",
    "    p = np.sum(acc_id == i)/(len(acc_id))\n",
    "    acc_ids.append(p)"
   ]
  },
  {
   "cell_type": "code",
   "execution_count": 113,
   "metadata": {},
   "outputs": [
    {
     "data": {
      "text/plain": [
       "[0.8709677419354839,\n",
       " 1.0,\n",
       " 0.8387096774193549,\n",
       " 0.9130434782608695,\n",
       " 0.8,\n",
       " 1.0,\n",
       " 0.9333333333333333,\n",
       " 0.9772727272727273,\n",
       " 1.0,\n",
       " 0.7948717948717948,\n",
       " 1.0,\n",
       " 0.9384615384615385,\n",
       " 0.8571428571428571,\n",
       " 0.8076923076923077,\n",
       " 0.9347826086956522,\n",
       " 0.9444444444444444,\n",
       " 0.95,\n",
       " 0.9565217391304348,\n",
       " 0.9649122807017544,\n",
       " 0.9272727272727272]"
      ]
     },
     "execution_count": 113,
     "metadata": {},
     "output_type": "execute_result"
    }
   ],
   "source": [
    "acc_ids"
   ]
  },
  {
   "cell_type": "code",
   "execution_count": 145,
   "metadata": {},
   "outputs": [
    {
     "name": "stdout",
     "output_type": "stream",
     "text": [
      "(294,)\n",
      "(266,)\n",
      "(515,)\n"
     ]
    }
   ],
   "source": [
    "train_author = new_train_doc[:,1]\n",
    "uni_train_author = np.unique(train_author)\n",
    "test_author = new_test_doc[:,1]\n",
    "uni_test_author = np.unique(test_author)\n",
    "all_author = np.concatenate((train_author,test_author))\n",
    "uni_all_author = np.unique(all_author)\n",
    "print (uni_train_author.shape)\n",
    "print (uni_test_author.shape)\n",
    "print (uni_all_author.shape)"
   ]
  },
  {
   "cell_type": "code",
   "execution_count": 195,
   "metadata": {},
   "outputs": [
    {
     "data": {
      "text/plain": [
       "0.9435835270587531"
      ]
     },
     "execution_count": 195,
     "metadata": {},
     "output_type": "execute_result"
    }
   ],
   "source": [
    "pu = []\n",
    "test_md = new_test_doc[:,3]\n",
    "for u in uni_test_author:\n",
    "    iu = np.sum(test_author == u)\n",
    "    author_test_doc = new_test_doc[(test_author == u)]\n",
    "    author_test_md = author_test_doc[:,3]\n",
    "    ranks = []\n",
    "    for m in author_test_md:\n",
    "        idx = np.where(test_md == m)[0][0]\n",
    "        img = test_img[idx].reshape(1,1,1,1,2048)\n",
    "        true = test_label[idx]\n",
    "        pro = model.predict(img)\n",
    "        one_rank = np.where(np.argsort(pro[0])[::-1] == true)[0][0] + 1\n",
    "        d_rank = 1/one_rank\n",
    "        ranks.append(d_rank)\n",
    "    ranks = np.array(ranks)\n",
    "    mean_r = np.mean(ranks)\n",
    "    #print (mean_r)\n",
    "    pu.append(mean_r)\n",
    "np.mean(np.array(pu))"
   ]
  },
  {
   "cell_type": "code",
   "execution_count": 196,
   "metadata": {},
   "outputs": [
    {
     "data": {
      "text/plain": [
       "0.9435835270587531"
      ]
     },
     "execution_count": 196,
     "metadata": {},
     "output_type": "execute_result"
    }
   ],
   "source": [
    "pu = []\n",
    "test_md = new_test_doc[:,3]\n",
    "test_id = new_test_doc[:,0]\n",
    "test_a = new_test_doc[:,1]\n",
    "for u in uni_test_author:\n",
    "    iu = np.sum(test_author == u)\n",
    "    author_test_doc = new_test_doc[(test_author == u)]\n",
    "    author_test_md = author_test_doc[:,3]\n",
    "    ranks = []\n",
    "    for m in author_test_md:\n",
    "        idx = np.where(test_md == m)[0][0]\n",
    "        a  = test_a[idx]\n",
    "        t_id = test_id[idx]\n",
    "        img_set = new_test_doc[(new_test_doc[:,0] == t_id)&(new_test_doc[:,1] == a)]\n",
    "        img_set_md = img_set[:,3]\n",
    "        nn = []\n",
    "        for mm in img_set_md:\n",
    "            idxm = np.where(test_md == mm)[0][0]\n",
    "            truem = test_label[idxm]\n",
    "            imgm = test_img[idxm].reshape(1,1,1,1,2048)\n",
    "            prom = model.predict(imgm)\n",
    "            one_rankm = np.where(np.argsort(prom[0])[::-1] == truem)[0][0] + 1\n",
    "            #print (one_rankm)\n",
    "            d_rankm = 1/one_rankm\n",
    "            nn.append(d_rankm)\n",
    "        nn = np.array(nn)\n",
    "        #print (nn.shape)\n",
    "        r = np.mean(nn)\n",
    "        #print (r)\n",
    "        ranks.append(r)\n",
    "        #print (ranks)\n",
    "    ranks = np.array(ranks)\n",
    "    mean_r = np.mean(ranks)\n",
    "    #print (mean_r)\n",
    "    pu.append(mean_r)\n",
    "np.mean(np.array(pu))"
   ]
  }
 ],
 "metadata": {
  "kernelspec": {
   "display_name": "Python 3",
   "language": "python",
   "name": "python3"
  },
  "language_info": {
   "codemirror_mode": {
    "name": "ipython",
    "version": 3
   },
   "file_extension": ".py",
   "mimetype": "text/x-python",
   "name": "python",
   "nbconvert_exporter": "python",
   "pygments_lexer": "ipython3",
   "version": "3.6.5"
  }
 },
 "nbformat": 4,
 "nbformat_minor": 2
}
